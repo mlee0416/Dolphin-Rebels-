{
 "cells": [
  {
   "cell_type": "code",
   "execution_count": 1,
   "metadata": {
    "collapsed": true
   },
   "outputs": [],
   "source": [
    "# -*- coding: utf-8 -*-\n",
    "\n",
    "import pandas as pd\n",
    "from pprint import pprint\n",
    "import numpy as np\n",
    "import json\n",
    "import censusgeocode as cg\n",
    "import matplotlib.pyplot as plt\n"
   ]
  },
  {
   "cell_type": "code",
   "execution_count": 2,
   "metadata": {
    "collapsed": true
   },
   "outputs": [],
   "source": [
    "la_restaurants=pd.read_csv(\"LA_County_Resturants_CensusTracts.csv\")\n",
    "census_tract= pd.read_csv('2015_census_tract_data.csv')\n",
    "la_census_tract=census_tract.loc[census_tract[\"County\"]==\"Los Angeles\",:]\n",
    "pov_edu = pd.read_csv('census_data.csv')"
   ]
  },
  {
   "cell_type": "code",
   "execution_count": 3,
   "metadata": {
    "collapsed": true
   },
   "outputs": [],
   "source": [
    "df_2015_census = pd.merge(la_restaurants, la_census_tract, how='left', on='CensusTract')\n",
    "df_2015_census.to_csv('kaggle_census.csv')\n",
    "\n",
    "pov_df=pd.merge(pov_edu,la_census_tract,how='left', on='CensusTract')\n",
    "pov_df.to_csv('kaggle merged with pov.csv')"
   ]
  },
  {
   "cell_type": "code",
   "execution_count": 4,
   "metadata": {
    "collapsed": true
   },
   "outputs": [],
   "source": [
    "#df.count()"
   ]
  },
  {
   "cell_type": "code",
   "execution_count": 5,
   "metadata": {
    "collapsed": true
   },
   "outputs": [],
   "source": [
    "df_2015_census.head()\n",
    "clean_df=df_2015_census[['CensusTract','name','category1','price','rating','review_count','city','zipcode',\n",
    "             'Hispanic','White','Black','Native','Asian','Pacific',\n",
    "            'Income','IncomePerCap', 'Poverty','County']]"
   ]
  },
  {
   "cell_type": "code",
   "execution_count": 6,
   "metadata": {
    "collapsed": true
   },
   "outputs": [],
   "source": [
    "clean_df.head()\n",
    "clean_census_file=clean_df.dropna(how=\"any\")"
   ]
  },
  {
   "cell_type": "code",
   "execution_count": 7,
   "metadata": {},
   "outputs": [
    {
     "data": {
      "text/plain": [
       "CensusTract     1736\n",
       "name            1736\n",
       "category1       1736\n",
       "price           1736\n",
       "rating          1736\n",
       "review_count    1736\n",
       "city            1736\n",
       "zipcode         1736\n",
       "Hispanic        1736\n",
       "White           1736\n",
       "Black           1736\n",
       "Native          1736\n",
       "Asian           1736\n",
       "Pacific         1736\n",
       "Income          1736\n",
       "IncomePerCap    1736\n",
       "Poverty         1736\n",
       "County          1736\n",
       "dtype: int64"
      ]
     },
     "execution_count": 7,
     "metadata": {},
     "output_type": "execute_result"
    }
   ],
   "source": [
    "clean_census_file.count()"
   ]
  },
  {
   "cell_type": "code",
   "execution_count": 8,
   "metadata": {
    "collapsed": true
   },
   "outputs": [],
   "source": [
    "clean_census_file.head()\n",
    "clean_census_file.to_csv('kaggle_restaurant_merge.csv')"
   ]
  },
  {
   "cell_type": "code",
   "execution_count": 28,
   "metadata": {},
   "outputs": [
    {
     "data": {
      "image/png": "[encoded data removed]",
      "text/plain": [
       "<matplotlib.figure.Figure at 0x7241ba1240>"
      ]
     },
     "metadata": {},
     "output_type": "display_data"
    }
   ],
   "source": [
    "la_df=clean_census_file.groupby(\"category1\")\n",
    "# la_df.head()\n",
    "la=la_df[\"County\"].count()\n",
    "la=la.sort_values(ascending=False)\n",
    "# la=la/la.sum()\n",
    "la=pd.DataFrame(la)\n",
    "la=la.iloc[0:10]\n",
    "\n",
    "chart_food_type=la[\"County\"].plot(kind='bar',figsize=(12,12),color='blue')\n",
    "\n",
    "chart_food_type.set_xlabel(\"Top 10 Restaurant Types\")\n",
    "chart_food_type.set_ylabel(\"Restaurant Type Count in LA County\") \n",
    "chart_food_type.set_title(f\"Top 10 Types of Restaurants in Los Angeles County: Sample Size ({clean_census_file['category1'].count()})\")\n",
    "plt.show()\n",
    "plt.savefig(\"Top10typesLA.png\")"
   ]
  },
  {
   "cell_type": "code",
   "execution_count": null,
   "metadata": {
    "collapsed": true
   },
   "outputs": [],
   "source": []
  }
 ],
 "metadata": {
  "kernelspec": {
   "display_name": "Python [conda env:PythonData]",
   "language": "python",
   "name": "conda-env-PythonData-py"
  },
  "language_info": {
   "codemirror_mode": {
    "name": "ipython",
    "version": 3
   },
   "file_extension": ".py",
   "mimetype": "text/x-python",
   "name": "python",
   "nbconvert_exporter": "python",
   "pygments_lexer": "ipython3",
   "version": "3.6.3"
  }
 },
 "nbformat": 4,
 "nbformat_minor": 2
}
