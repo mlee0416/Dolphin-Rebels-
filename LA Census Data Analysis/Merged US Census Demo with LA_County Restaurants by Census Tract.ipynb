{
 "cells": [
  {
   "cell_type": "code",
   "execution_count": 1,
   "metadata": {
    "collapsed": true
   },
   "outputs": [],
   "source": [
    "# -*- coding: utf-8 -*-\n",
    "import pandas as pd\n",
    "from pprint import pprint\n",
    "import numpy as np\n",
    "import json\n",
    "import censusgeocode as cg\n",
    "import matplotlib.pyplot as plt\n"
   ]
  },
  {
   "cell_type": "code",
   "execution_count": 4,
   "metadata": {},
   "outputs": [],
   "source": [
    "#Merge the Datasets\n",
    "la_restaurants=pd.read_csv(\"LA_County_Resturants_CensusTracts.csv\")\n",
    "census_tract= pd.read_csv('2015_census_tract_data.csv')\n",
    "la_census_tract=census_tract.loc[census_tract[\"County\"]==\"Los Angeles\",:]\n",
    "df = pd.merge(la_restaurants, la_census_tract, how='left', on='CensusTract')\n",
    "df.to_csv('kaggle_census.csv')\n",
    "#df.count()"
   ]
  },
  {
   "cell_type": "code",
   "execution_count": 6,
   "metadata": {},
   "outputs": [],
   "source": [
    "#df.count()"
   ]
  },
  {
   "cell_type": "code",
   "execution_count": 7,
   "metadata": {
    "collapsed": true
   },
   "outputs": [],
   "source": [
    "df.head()\n",
    "clean_df=df[['CensusTract','name','category1','price','rating','review_count','city','zipcode',\n",
    "             'Hispanic','White','Black','Native','Asian','Pacific',\n",
    "            'Income','IncomePerCap', 'Poverty','County']]"
   ]
  },
  {
   "cell_type": "code",
   "execution_count": 8,
   "metadata": {
    "collapsed": true
   },
   "outputs": [],
   "source": [
    "clean_df.head()\n",
    "clean_census_file=clean_df.dropna(how=\"any\")"
   ]
  },
  {
   "cell_type": "code",
   "execution_count": 13,
   "metadata": {},
   "outputs": [
    {
     "data": {
      "text/html": [
       "<div>\n",
       "<style>\n",
       "    .dataframe thead tr:only-child th {\n",
       "        text-align: right;\n",
       "    }\n",
       "\n",
       "    .dataframe thead th {\n",
       "        text-align: left;\n",
       "    }\n",
       "\n",
       "    .dataframe tbody tr th {\n",
       "        vertical-align: top;\n",
       "    }\n",
       "</style>\n",
       "<table border=\"1\" class=\"dataframe\">\n",
       "  <thead>\n",
       "    <tr style=\"text-align: right;\">\n",
       "      <th></th>\n",
       "      <th>CensusTract</th>\n",
       "      <th>name</th>\n",
       "      <th>category1</th>\n",
       "      <th>price</th>\n",
       "      <th>rating</th>\n",
       "      <th>review_count</th>\n",
       "      <th>city</th>\n",
       "      <th>zipcode</th>\n",
       "      <th>Hispanic</th>\n",
       "      <th>White</th>\n",
       "      <th>Black</th>\n",
       "      <th>Native</th>\n",
       "      <th>Asian</th>\n",
       "      <th>Pacific</th>\n",
       "      <th>Income</th>\n",
       "      <th>IncomePerCap</th>\n",
       "      <th>Poverty</th>\n",
       "      <th>County</th>\n",
       "    </tr>\n",
       "  </thead>\n",
       "  <tbody>\n",
       "    <tr>\n",
       "      <th>0</th>\n",
       "      <td>6.03723e+09</td>\n",
       "      <td>Fettes Schwein Food Truck</td>\n",
       "      <td>Food Trucks</td>\n",
       "      <td>$</td>\n",
       "      <td>4.5</td>\n",
       "      <td>14</td>\n",
       "      <td>Los Angeles</td>\n",
       "      <td>90011.0</td>\n",
       "      <td>90.1</td>\n",
       "      <td>2.0</td>\n",
       "      <td>5.0</td>\n",
       "      <td>0.0</td>\n",
       "      <td>0.0</td>\n",
       "      <td>2.6</td>\n",
       "      <td>26200.0</td>\n",
       "      <td>8574.0</td>\n",
       "      <td>50.5</td>\n",
       "      <td>Los Angeles</td>\n",
       "    </tr>\n",
       "    <tr>\n",
       "      <th>1</th>\n",
       "      <td>6.03719e+09</td>\n",
       "      <td>The Tropic Truck</td>\n",
       "      <td>Food Trucks</td>\n",
       "      <td>$$</td>\n",
       "      <td>4.0</td>\n",
       "      <td>50</td>\n",
       "      <td>Los Angeles</td>\n",
       "      <td>90027.0</td>\n",
       "      <td>42.5</td>\n",
       "      <td>39.5</td>\n",
       "      <td>3.5</td>\n",
       "      <td>0.0</td>\n",
       "      <td>12.6</td>\n",
       "      <td>0.0</td>\n",
       "      <td>27891.0</td>\n",
       "      <td>17794.0</td>\n",
       "      <td>28.1</td>\n",
       "      <td>Los Angeles</td>\n",
       "    </tr>\n",
       "    <tr>\n",
       "      <th>2</th>\n",
       "      <td>6.03714e+09</td>\n",
       "      <td>Okamoto Kitchen</td>\n",
       "      <td>Food Trucks</td>\n",
       "      <td>$$</td>\n",
       "      <td>4.5</td>\n",
       "      <td>168</td>\n",
       "      <td>Los Angeles</td>\n",
       "      <td>91423.0</td>\n",
       "      <td>8.9</td>\n",
       "      <td>70.6</td>\n",
       "      <td>8.4</td>\n",
       "      <td>0.0</td>\n",
       "      <td>8.5</td>\n",
       "      <td>0.0</td>\n",
       "      <td>85294.0</td>\n",
       "      <td>68630.0</td>\n",
       "      <td>6.6</td>\n",
       "      <td>Los Angeles</td>\n",
       "    </tr>\n",
       "    <tr>\n",
       "      <th>3</th>\n",
       "      <td>6.03721e+09</td>\n",
       "      <td>White Rabbit Truck</td>\n",
       "      <td>Filipino</td>\n",
       "      <td>$</td>\n",
       "      <td>3.5</td>\n",
       "      <td>569</td>\n",
       "      <td>Los Angeles</td>\n",
       "      <td>90012.0</td>\n",
       "      <td>61.3</td>\n",
       "      <td>14.4</td>\n",
       "      <td>17.0</td>\n",
       "      <td>0.0</td>\n",
       "      <td>4.5</td>\n",
       "      <td>0.0</td>\n",
       "      <td>10598.0</td>\n",
       "      <td>4693.0</td>\n",
       "      <td>91.8</td>\n",
       "      <td>Los Angeles</td>\n",
       "    </tr>\n",
       "    <tr>\n",
       "      <th>4</th>\n",
       "      <td>6.03712e+09</td>\n",
       "      <td>Shawarma and Falafel Palace Food Truck</td>\n",
       "      <td>Food Trucks</td>\n",
       "      <td>$</td>\n",
       "      <td>1.0</td>\n",
       "      <td>1</td>\n",
       "      <td>Los Angeles</td>\n",
       "      <td>91352.0</td>\n",
       "      <td>81.7</td>\n",
       "      <td>8.4</td>\n",
       "      <td>0.2</td>\n",
       "      <td>0.1</td>\n",
       "      <td>6.3</td>\n",
       "      <td>0.0</td>\n",
       "      <td>55457.0</td>\n",
       "      <td>15980.0</td>\n",
       "      <td>9.8</td>\n",
       "      <td>Los Angeles</td>\n",
       "    </tr>\n",
       "  </tbody>\n",
       "</table>\n",
       "</div>"
      ],
      "text/plain": [
       "   CensusTract                                    name    category1 price  \\\n",
       "0  6.03723e+09               Fettes Schwein Food Truck  Food Trucks     $   \n",
       "1  6.03719e+09                        The Tropic Truck  Food Trucks    $$   \n",
       "2  6.03714e+09                         Okamoto Kitchen  Food Trucks    $$   \n",
       "3  6.03721e+09                      White Rabbit Truck     Filipino     $   \n",
       "4  6.03712e+09  Shawarma and Falafel Palace Food Truck  Food Trucks     $   \n",
       "\n",
       "   rating  review_count         city  zipcode  Hispanic  White  Black  Native  \\\n",
       "0     4.5            14  Los Angeles  90011.0      90.1    2.0    5.0     0.0   \n",
       "1     4.0            50  Los Angeles  90027.0      42.5   39.5    3.5     0.0   \n",
       "2     4.5           168  Los Angeles  91423.0       8.9   70.6    8.4     0.0   \n",
       "3     3.5           569  Los Angeles  90012.0      61.3   14.4   17.0     0.0   \n",
       "4     1.0             1  Los Angeles  91352.0      81.7    8.4    0.2     0.1   \n",
       "\n",
       "   Asian  Pacific   Income  IncomePerCap  Poverty       County  \n",
       "0    0.0      2.6  26200.0        8574.0     50.5  Los Angeles  \n",
       "1   12.6      0.0  27891.0       17794.0     28.1  Los Angeles  \n",
       "2    8.5      0.0  85294.0       68630.0      6.6  Los Angeles  \n",
       "3    4.5      0.0  10598.0        4693.0     91.8  Los Angeles  \n",
       "4    6.3      0.0  55457.0       15980.0      9.8  Los Angeles  "
      ]
     },
     "execution_count": 13,
     "metadata": {},
     "output_type": "execute_result"
    }
   ],
   "source": [
    "#clean_census_file.count()\n",
    "clean_census_file.head()\n",
    "#clean_census_file.to_csv('kaggle_restaurant_merge2.csv')"
   ]
  },
  {
   "cell_type": "code",
   "execution_count": 12,
   "metadata": {},
   "outputs": [
    {
     "data": {
      "image/png": "[encoded data removed]",
      "text/plain": [
       "<matplotlib.figure.Figure at 0x55a473e4e0>"
      ]
     },
     "metadata": {},
     "output_type": "display_data"
    }
   ],
   "source": [
    "la_df=clean_census_file.groupby(\"category1\")\n",
    "la=la_df[\"County\"].count()\n",
    "la=la.sort_values(ascending=False)\n",
    "la=la/la.sum()\n",
    "la=pd.DataFrame(la)\n",
    "la=la.iloc[0:10]\n",
    "# div=div.loc[div[\"County\"]>=0.02]\n",
    "total=la[\"County\"].sum()\n",
    "la=la[\"County\"]/total\n",
    "la=pd.DataFrame(la)\n",
    "\n",
    "\n",
    "\n",
    "chart_diverse=la[\"County\"].plot(kind='bar',figsize=(12,12))\n",
    "\n",
    "chart_diverse.set_xlabel(\"Restaurant Types\")\n",
    "chart_diverse.set_ylabel(\"Percentage\") \n",
    "chart_diverse.set_title(f\"Top 10 Common Restauraunt Types in Los Angeles County based on Highest Rating Sample Size ({clean_census_file['name'].count()})\")\n",
    "plt.savefig(\"Top10LAtype.png\")\n",
    "plt.show()"
   ]
  },
  {
   "cell_type": "code",
   "execution_count": null,
   "metadata": {
    "collapsed": true
   },
   "outputs": [],
   "source": []
  }
 ],
 "metadata": {
  "kernelspec": {
   "display_name": "Python [conda env:PythonData]",
   "language": "python",
   "name": "conda-env-PythonData-py"
  },
  "language_info": {
   "codemirror_mode": {
    "name": "ipython",
    "version": 3
   },
   "file_extension": ".py",
   "mimetype": "text/x-python",
   "name": "python",
   "nbconvert_exporter": "python",
   "pygments_lexer": "ipython3",
   "version": "3.6.3"
  }
 },
 "nbformat": 4,
 "nbformat_minor": 2
}
