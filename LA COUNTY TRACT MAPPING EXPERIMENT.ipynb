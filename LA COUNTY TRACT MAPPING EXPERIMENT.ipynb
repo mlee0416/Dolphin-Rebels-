{
 "cells": [
  {
   "cell_type": "markdown",
   "metadata": {},
   "source": [
    "# Creating Web Maps in Python with GeoPandas and Folium\n",
    "\n",
    "## Introduction\n",
    "\n",
    "\n",
    "In this post, I demonstrate the use of the Python package Folium to create a web map from a GeoDataFrame. Folium is built on the Leaflet javascript library, which is a great tool for creating interactive web maps. However, I use Python for all of my data wrangling and analytical tasks, so it's really nice to be able to have the web-mapping capabilities from within the same environment. The goal of this post is to demonstrate a workflow between GeoPandas and Folium that makes it really easy to create functional and visually appealing web maps in Python.\n",
    "\n",
    "In this example, I plot the point locations of crimes in San Francisco, overlaid on a choropleth of census tract crime density. Viewing these two layers together on a web map creates a nice way to get an overall sense of crime distribution, while also being able to view individual crime information. As I demonstrate below, these Python packages provide a nice, clean, and customizable way of doing this."
   ]
  },
  {
   "cell_type": "code",
   "execution_count": 1,
   "metadata": {
    "collapsed": true
   },
   "outputs": [],
   "source": [
    "#Import the necessary Python moduless\n",
    "import pandas as pd\n",
    "import geopandas as gpd\n",
    "import numpy as np\n",
    "from geopandas.tools import sjoin\n",
    "import folium\n",
    "from folium.plugins import MarkerCluster\n",
    "from folium import IFrame\n",
    "import shapely\n",
    "from shapely.geometry import Point\n",
    "import unicodedata\n",
    "import pysal as ps"
   ]
  },
  {
   "cell_type": "markdown",
   "metadata": {},
   "source": [
    "## Data Prep\n",
    "In this section I create two GeoDataFrames: one of crime points and one of census tract boundaries with crime densities. Both of these will then be plotted on a web map as separate layers.\n",
    "\n",
    "### Read in Crime Data and Create a GeoDataFrame\n",
    "First I read in a CSV file of San Francisco Police Incidents for the current year into a Pandas DataFrame. I downloaded the raw data from the San Francisco [Open Data Portal](https://data.sfgov.org/). Because there are so many crime incidents, I select a subset of the data: crimes in the \"assault\" category that were committed in the last 10 days. As shown below, this leaves me with 329 police incidents. \n"
   ]
  },
  {
   "cell_type": "code",
   "execution_count": 2,
   "metadata": {
    "scrolled": false
   },
   "outputs": [
    {
     "name": "stdout",
     "output_type": "stream",
     "text": [
      "205 Animal Shooting Incidents out of 656 Deputy Involved Incidents\n"
     ]
    },
    {
     "data": {
      "text/html": [
       "<div>\n",
       "<style>\n",
       "    .dataframe thead tr:only-child th {\n",
       "        text-align: right;\n",
       "    }\n",
       "\n",
       "    .dataframe thead th {\n",
       "        text-align: left;\n",
       "    }\n",
       "\n",
       "    .dataframe tbody tr th {\n",
       "        vertical-align: top;\n",
       "    }\n",
       "</style>\n",
       "<table border=\"1\" class=\"dataframe\">\n",
       "  <thead>\n",
       "    <tr style=\"text-align: right;\">\n",
       "      <th></th>\n",
       "      <th>INCIDENT NUMBER</th>\n",
       "      <th>INCIDENT TYPE</th>\n",
       "      <th>GEO_LOCATION</th>\n",
       "      <th>APPROX_LATITUDE</th>\n",
       "      <th>APPROX_LONGITUDE</th>\n",
       "    </tr>\n",
       "  </thead>\n",
       "  <tbody>\n",
       "    <tr>\n",
       "      <th>0</th>\n",
       "      <td>1000169</td>\n",
       "      <td>ANIMAL SHOOTING INCIDENT</td>\n",
       "      <td>16100 S. ESSEY AVENUE\\nEAST RANCHO DOMINGUEZ, ...</td>\n",
       "      <td>33.887836</td>\n",
       "      <td>-118.204052</td>\n",
       "    </tr>\n",
       "    <tr>\n",
       "      <th>1</th>\n",
       "      <td>1000091</td>\n",
       "      <td>ANIMAL SHOOTING INCIDENT</td>\n",
       "      <td>4900 SUNBURST DRIVE\\nPALMDALE, CA 93552\\n(34.5...</td>\n",
       "      <td>34.552720</td>\n",
       "      <td>-118.042624</td>\n",
       "    </tr>\n",
       "    <tr>\n",
       "      <th>2</th>\n",
       "      <td>1000143</td>\n",
       "      <td>ANIMAL SHOOTING INCIDENT</td>\n",
       "      <td>9500 BANTA ROAD\\nPICO RIVERA, CA 90660\\n(34.01...</td>\n",
       "      <td>34.013747</td>\n",
       "      <td>-118.071077</td>\n",
       "    </tr>\n",
       "    <tr>\n",
       "      <th>3</th>\n",
       "      <td>1000102</td>\n",
       "      <td>ANIMAL SHOOTING INCIDENT</td>\n",
       "      <td>3100 MARBELLA LANE\\nPALMDALE, CA 93550\\n(34.57...</td>\n",
       "      <td>34.570721</td>\n",
       "      <td>-118.073199</td>\n",
       "    </tr>\n",
       "    <tr>\n",
       "      <th>4</th>\n",
       "      <td>1001244</td>\n",
       "      <td>ANIMAL SHOOTING INCIDENT</td>\n",
       "      <td>1700 E. AVENUE Q-14\\nPALMDALE, CA 93550\\n(34.5...</td>\n",
       "      <td>34.574401</td>\n",
       "      <td>-118.098330</td>\n",
       "    </tr>\n",
       "  </tbody>\n",
       "</table>\n",
       "</div>"
      ],
      "text/plain": [
       "   INCIDENT NUMBER             INCIDENT TYPE  \\\n",
       "0          1000169  ANIMAL SHOOTING INCIDENT   \n",
       "1          1000091  ANIMAL SHOOTING INCIDENT   \n",
       "2          1000143  ANIMAL SHOOTING INCIDENT   \n",
       "3          1000102  ANIMAL SHOOTING INCIDENT   \n",
       "4          1001244  ANIMAL SHOOTING INCIDENT   \n",
       "\n",
       "                                        GEO_LOCATION  APPROX_LATITUDE  \\\n",
       "0  16100 S. ESSEY AVENUE\\nEAST RANCHO DOMINGUEZ, ...        33.887836   \n",
       "1  4900 SUNBURST DRIVE\\nPALMDALE, CA 93552\\n(34.5...        34.552720   \n",
       "2  9500 BANTA ROAD\\nPICO RIVERA, CA 90660\\n(34.01...        34.013747   \n",
       "3  3100 MARBELLA LANE\\nPALMDALE, CA 93550\\n(34.57...        34.570721   \n",
       "4  1700 E. AVENUE Q-14\\nPALMDALE, CA 93550\\n(34.5...        34.574401   \n",
       "\n",
       "   APPROX_LONGITUDE  \n",
       "0       -118.204052  \n",
       "1       -118.042624  \n",
       "2       -118.071077  \n",
       "3       -118.073199  \n",
       "4       -118.098330  "
      ]
     },
     "execution_count": 2,
     "metadata": {},
     "output_type": "execute_result"
    }
   ],
   "source": [
    "#Read in CSV file specifying date field and encoding. Sort by date\n",
    "all_shootings = pd.read_csv('All_Shooting_Incidents_for_Deputy_Involved_Shootings_2010_to_Present.csv', \\\n",
    "                        encoding = 'utf-8').reset_index(drop=True)\n",
    "\n",
    "#Clean up the encoding on the Crime Description field \n",
    "#all_crime.Descript = all_crime.Descript.apply(lambda x: unicodedata.normalize(\"NFKD\", x))\n",
    "\n",
    "#Create a field that contains a string representation of the date, for later use\n",
    "#all_crime['DateStr'] = all_crime.Date.apply(lambda x: x.strftime(\"%Y-%m-%d\"))\n",
    "\n",
    "#Identify those crimes that are categorized as assaults\n",
    "animal_shootings = all_shootings['INCIDENT TYPE'] == 'ANIMAL SHOOTING INCIDENT' \n",
    "\n",
    "#Identify those crimes that were committed in the most recent 10 days of the dataset\n",
    "#recent = all_crime.Date.isin(all_crime.Date.unique()[-10:]) \n",
    "\n",
    "#Subset the data to get assaults commited within the last 10 days\n",
    "rex_shot = all_shootings[animal_shootings].drop_duplicates('INCIDENT NUMBER').reset_index(drop = True)\n",
    "#animal_shootings = animal_shootings[['INCIDENT NUMBER', 'Descript', 'DateStr', 'Time', 'Address','X', 'Y']]\n",
    "print (f'{len(rex_shot)} Animal Shooting Incidents out of {len(all_shootings)} Deputy Involved Incidents')\n",
    "rex_shot = rex_shot[['INCIDENT NUMBER', 'INCIDENT TYPE', 'GEO_LOCATION','APPROX_LATITUDE', 'APPROX_LONGITUDE']]\n",
    "rex_shot.head()"
   ]
  },
  {
   "cell_type": "markdown",
   "metadata": {},
   "source": [
    "I now want to convert the assault data Pandas DataFrame to a GeoPandas GeoDataFrame (a spatial version of the former). The raw crime data comes with lat/long coordinates, which I use these to create Shapely point geometry objects (these are the values in the \"geometry\" field for each record in a GeoDataFrame). I specify the spatial reference system as ESPG 4326 which represents the standard WGS84 coordinate system."
   ]
  },
  {
   "cell_type": "code",
   "execution_count": 3,
   "metadata": {},
   "outputs": [
    {
     "data": {
      "text/html": [
       "<div>\n",
       "<style>\n",
       "    .dataframe thead tr:only-child th {\n",
       "        text-align: right;\n",
       "    }\n",
       "\n",
       "    .dataframe thead th {\n",
       "        text-align: left;\n",
       "    }\n",
       "\n",
       "    .dataframe tbody tr th {\n",
       "        vertical-align: top;\n",
       "    }\n",
       "</style>\n",
       "<table border=\"1\" class=\"dataframe\">\n",
       "  <thead>\n",
       "    <tr style=\"text-align: right;\">\n",
       "      <th></th>\n",
       "      <th>INCIDENT NUMBER</th>\n",
       "      <th>INCIDENT TYPE</th>\n",
       "      <th>GEO_LOCATION</th>\n",
       "      <th>geometry</th>\n",
       "    </tr>\n",
       "  </thead>\n",
       "  <tbody>\n",
       "    <tr>\n",
       "      <th>0</th>\n",
       "      <td>1000169</td>\n",
       "      <td>ANIMAL SHOOTING INCIDENT</td>\n",
       "      <td>16100 S. ESSEY AVENUE\\nEAST RANCHO DOMINGUEZ, ...</td>\n",
       "      <td>POINT (-118.204052 33.887836)</td>\n",
       "    </tr>\n",
       "    <tr>\n",
       "      <th>1</th>\n",
       "      <td>1000091</td>\n",
       "      <td>ANIMAL SHOOTING INCIDENT</td>\n",
       "      <td>4900 SUNBURST DRIVE\\nPALMDALE, CA 93552\\n(34.5...</td>\n",
       "      <td>POINT (-118.042624 34.55272)</td>\n",
       "    </tr>\n",
       "    <tr>\n",
       "      <th>2</th>\n",
       "      <td>1000143</td>\n",
       "      <td>ANIMAL SHOOTING INCIDENT</td>\n",
       "      <td>9500 BANTA ROAD\\nPICO RIVERA, CA 90660\\n(34.01...</td>\n",
       "      <td>POINT (-118.071077 34.013747)</td>\n",
       "    </tr>\n",
       "    <tr>\n",
       "      <th>3</th>\n",
       "      <td>1000102</td>\n",
       "      <td>ANIMAL SHOOTING INCIDENT</td>\n",
       "      <td>3100 MARBELLA LANE\\nPALMDALE, CA 93550\\n(34.57...</td>\n",
       "      <td>POINT (-118.073199 34.570721)</td>\n",
       "    </tr>\n",
       "    <tr>\n",
       "      <th>4</th>\n",
       "      <td>1001244</td>\n",
       "      <td>ANIMAL SHOOTING INCIDENT</td>\n",
       "      <td>1700 E. AVENUE Q-14\\nPALMDALE, CA 93550\\n(34.5...</td>\n",
       "      <td>POINT (-118.09833 34.574401)</td>\n",
       "    </tr>\n",
       "  </tbody>\n",
       "</table>\n",
       "</div>"
      ],
      "text/plain": [
       "   INCIDENT NUMBER             INCIDENT TYPE  \\\n",
       "0          1000169  ANIMAL SHOOTING INCIDENT   \n",
       "1          1000091  ANIMAL SHOOTING INCIDENT   \n",
       "2          1000143  ANIMAL SHOOTING INCIDENT   \n",
       "3          1000102  ANIMAL SHOOTING INCIDENT   \n",
       "4          1001244  ANIMAL SHOOTING INCIDENT   \n",
       "\n",
       "                                        GEO_LOCATION  \\\n",
       "0  16100 S. ESSEY AVENUE\\nEAST RANCHO DOMINGUEZ, ...   \n",
       "1  4900 SUNBURST DRIVE\\nPALMDALE, CA 93552\\n(34.5...   \n",
       "2  9500 BANTA ROAD\\nPICO RIVERA, CA 90660\\n(34.01...   \n",
       "3  3100 MARBELLA LANE\\nPALMDALE, CA 93550\\n(34.57...   \n",
       "4  1700 E. AVENUE Q-14\\nPALMDALE, CA 93550\\n(34.5...   \n",
       "\n",
       "                        geometry  \n",
       "0  POINT (-118.204052 33.887836)  \n",
       "1   POINT (-118.042624 34.55272)  \n",
       "2  POINT (-118.071077 34.013747)  \n",
       "3  POINT (-118.073199 34.570721)  \n",
       "4   POINT (-118.09833 34.574401)  "
      ]
     },
     "execution_count": 3,
     "metadata": {},
     "output_type": "execute_result"
    }
   ],
   "source": [
    "#First create a GeoSeries of crime locations by converting coordinates to Shapely geometry objects\n",
    "#Specify the coordinate system ESPG4326 which represents the standard WGS84 coordinate system\n",
    "shootings_geo = gpd.GeoSeries(rex_shot.apply(lambda z: Point(z['APPROX_LONGITUDE'], z['APPROX_LATITUDE']), 1),crs={'init': 'epsg:4269'})\n",
    "\n",
    "#Create a geodataframe from the pandas dataframe and the geoseries of shapely geometry objects\n",
    "shootings = gpd.GeoDataFrame(rex_shot.drop(['APPROX_LATITUDE', 'APPROX_LONGITUDE'], 1), geometry=shootings_geo)\n",
    "shootings.head()"
   ]
  },
  {
   "cell_type": "markdown",
   "metadata": {},
   "source": [
    "### Calculate Census Tract Crime Density\n",
    "Next, I read in a Shapefile of San Francisco Census Tracts, which I also downloaded from the SF Open Data Portal. With GeoPandas, I can read a Shapefile directly into Python really easily. Then in one line of code, I spatially join census tracts to assaults (determine the census tract of each assault), and generate counts of assaults per census tract. Note that I use the ```to_crs``` function to convert assaults to the same coordinate system as Census Tracts (EPSG 3310) prior to spatially joining them.\n",
    "\n",
    "Lastly, I calculate the number of assaults per square mile, which is the metric that I'm interested in plotting."
   ]
  },
  {
   "cell_type": "code",
   "execution_count": 25,
   "metadata": {
    "scrolled": false
   },
   "outputs": [
    {
     "data": {
      "text/html": [
       "<div>\n",
       "<style>\n",
       "    .dataframe thead tr:only-child th {\n",
       "        text-align: right;\n",
       "    }\n",
       "\n",
       "    .dataframe thead th {\n",
       "        text-align: left;\n",
       "    }\n",
       "\n",
       "    .dataframe tbody tr th {\n",
       "        vertical-align: top;\n",
       "    }\n",
       "</style>\n",
       "<table border=\"1\" class=\"dataframe\">\n",
       "  <thead>\n",
       "    <tr style=\"text-align: right;\">\n",
       "      <th></th>\n",
       "      <th>CT10</th>\n",
       "      <th>geometry</th>\n",
       "      <th>CopShotRexPSqMi</th>\n",
       "    </tr>\n",
       "  </thead>\n",
       "  <tbody>\n",
       "  </tbody>\n",
       "</table>\n",
       "</div>"
      ],
      "text/plain": [
       "Empty GeoDataFrame\n",
       "Columns: [CT10, geometry, CopShotRexPSqMi]\n",
       "Index: []"
      ]
     },
     "execution_count": 25,
     "metadata": {},
     "output_type": "execute_result"
    }
   ],
   "source": [
    "#Read tracts shapefile into GeoDataFrame\n",
    "tracts = gpd.read_file('CENSUS_TRACTS_2010.shp')\n",
    "tracts = tracts[['CT10','geometry']]\n",
    "#tracts = tracts.set_index('CT10')\n",
    "#tract.reset_index()\n",
    "#Generate Counts of Assaults per Census Tract\n",
    "#Spatially join census tracts to assaults (after projecting) and then group by Tract FIPS while counting the number of crimes\n",
    "tract_counts = gpd.tools.sjoin(shootings.to_crs(tracts.crs), tracts.reset_index())\n",
    "tract_counts = tract_counts.groupby('CT10').size()\n",
    "#Calculate Assault Density, converting square meters to square miles.\n",
    "tracts['CopShotRexPSqMi'] = (tract_counts/(tracts.geometry.area*3.86102e-7)).fillna(0)\n",
    "#tracts = tracts.reset_index()\n",
    "\n",
    "tracts = tracts.loc[tracts['CopShotRexPSqMi'] > 0]\n",
    "tracts"
   ]
  },
  {
   "cell_type": "code",
   "execution_count": 7,
   "metadata": {
    "scrolled": true
   },
   "outputs": [
    {
     "data": {
      "text/plain": [
       "CT10\n",
       "911001    1554.344599\n",
       "980003     802.586311\n",
       "930301    4292.689111\n",
       "573003       1.862557\n",
       "297602       2.585737\n",
       "297601       3.083467\n",
       "577504       2.140656\n",
       "576903       1.349627\n",
       "576302       1.345476\n",
       "576301       2.279971\n",
       "576001       7.474381\n",
       "293306       2.612725\n",
       "295103       8.554243\n",
       "980015      22.854327\n",
       "670602      58.972651\n",
       "670416      14.866914\n",
       "670328      14.886201\n",
       "670326      16.752821\n",
       "670324      19.686885\n",
       "651402       7.604295\n",
       "651401       4.176630\n",
       "297202       2.393326\n",
       "297201       1.679114\n",
       "296902       2.039739\n",
       "296901       2.565993\n",
       "296402       4.344135\n",
       "296401       4.106699\n",
       "294701       7.281953\n",
       "294421       2.762428\n",
       "294302       3.492735\n",
       "             ...     \n",
       "404301       4.602440\n",
       "406102       6.842924\n",
       "401002       6.123246\n",
       "400800      10.938967\n",
       "910001     306.392039\n",
       "403702       7.115182\n",
       "403408      13.183732\n",
       "408626      10.323643\n",
       "401001       6.025421\n",
       "401102       5.328330\n",
       "401101      12.531731\n",
       "401500      15.672095\n",
       "401203       7.914349\n",
       "401201       9.729923\n",
       "403902       8.781346\n",
       "404100       5.605255\n",
       "400206      15.404332\n",
       "400302       5.411129\n",
       "408706       5.422676\n",
       "400205      98.272551\n",
       "408627      13.306783\n",
       "404402      13.984055\n",
       "400402      18.239491\n",
       "401311      17.771694\n",
       "401902      11.054950\n",
       "401901       7.122489\n",
       "401800      24.996471\n",
       "401703       4.833335\n",
       "400602       6.412787\n",
       "137000      12.509418\n",
       "Length: 2344, dtype: float64"
      ]
     },
     "execution_count": 7,
     "metadata": {},
     "output_type": "execute_result"
    }
   ],
   "source": [
    "tracts = gpd.read_file('CENSUS_TRACTS_2010.shp')\n",
    "tracts = tracts[['CT10','geometry']]\n",
    "tracts = tracts.set_index('CT10')\n",
    "tracts.geometry.area\n",
    "tracts.geometry.area*3.86102e-7"
   ]
  },
  {
   "cell_type": "markdown",
   "metadata": {},
   "source": [
    "## Using Folium to Plot Data\n",
    "The general approach I take here is to first create a Folium basemap and then add two layers to it: (1) a choropleth of census tracts, symbolized crime density, and (2) crime point locations. I write a separate function to plot each of these two layers, each of which takes a GeoDataFrame as its input. Folium takes unprojected lat/long coordinates for all of its plotting, so I make sure to convert all of my projected GeoDataFrames to WGS84 within the plotting functions.\n",
    "\n",
    "###  Choropleth Layer of Tract Crime Density\n",
    "As its inputs, my choropleth function takes a Folium map object, a GeoDataFrame, the name of the feature ID field, and the name of the field whose values will be symbolized. \n",
    "\n",
    "Leaflet uses GeoJSON objects to plot vector geometries (GeoJSON is a data format that is used to represent geographical features along with their non-spatial attributes). GeoPandas has a ```to_json``` method which I use to convert the GeoDataFrame to GeoJSON to be used as one of the inputs to Folium's choropleth function. I also specify the id field, which is used to link the geometry in the GeoJSON with the data in the GeoDataFrame.\n",
    "\n",
    "The function also takes optional parameters for fill color, fill opacity, line opacity, number of classifiers, and classification scheme. All of these have default values if not specified. Folium / Leaflet uses the [Color Brewer](http://colorbrewer2.org/#type=sequential&scheme=YlOrRd&n=5) sequential color schemes, which can easily be specified to view different combinations. \n",
    "\n",
    "Lastly, I allow the user to specify the number of classes and the classification scheme. At this point, Folium has limited map classification options, so I instead use Pysal's choropleth [map classfication module](http://pysal.readthedocs.io/en/latest/library/esda/mapclassify.html) to provide some basic classification options. My function defaults to \"Fisher_Jenks\", but also has options for \"Equal_Interval\", and \"Quantiles\". \n",
    "\n",
    "Below, I first create a basemap that is centered in San Francisco, and then I run my function on this basemap specifying the Census Tract ID Field as well as the field I want to symbolize on (Assaults Per Square Mile)."
   ]
  },
  {
   "cell_type": "code",
   "execution_count": null,
   "metadata": {},
   "outputs": [],
   "source": [
    "#Create SF basemap specifying map center, zoom level, and using the default OpenStreetMap tiles\n",
    "crime_map = folium.Map([34, -118], zoom_start = 9)\n",
    "\n",
    "def add_choropleth(mapobj, gdf, id_field, value_field, fill_color = 'YlOrRd', fill_opacity = 0.6, \n",
    "                    line_opacity = 0.2, num_classes = 1, classifier = 'Fisher_Jenks'):\n",
    "    #Allow for 3 Pysal map classifiers to display data\n",
    "    #Generate list of breakpoints using specified classification scheme. List of breakpoint will be input to choropleth function\n",
    "    if classifier == 'Fisher_Jenks':\n",
    "        threshold_scale=ps.esda.mapclassify.Fisher_Jenks(gdf[value_field], k = num_classes).bins.tolist()\n",
    "    if classifier == 'Equal_Interval':\n",
    "        threshold_scale=ps.esda.mapclassify.Equal_Interval(gdf[value_field], k = num_classes).bins.tolist()\n",
    "    if classifier == 'Quantiles':\n",
    "        threshold_scale=ps.esda.mapclassify.Quantiles(gdf[value_field], k = num_classes).bins.tolist()\n",
    "    \n",
    "    #Convert the GeoDataFrame to WGS84 coordinate reference system\n",
    "    gdf_wgs84 = gdf.to_crs({'init': 'epsg:4326'})\n",
    "    \n",
    "    #Call Folium choropleth function, specifying the geometry as a the WGS84 dataframe converted to GeoJSON, the data as \n",
    "    #the GeoDataFrame, the columns as the user-specified id field and and value field.\n",
    "    #key_on field refers to the id field within the GeoJSON string\n",
    "    mapobj.choropleth(\n",
    "                geo_data = gdf_wgs84.to_json(), \n",
    "                data = gdf,\n",
    "                columns = [id_field, value_field], \n",
    "                key_on = 'feature.properties.{}'.format(id_field),\n",
    "                fill_color = fill_color, \n",
    "                fill_opacity = fill_opacity, \n",
    "                line_opacity = line_opacity,  \n",
    "                threshold_scale = threshold_scale)\n",
    "    return mapobj\n",
    "\n",
    "#Update basemap with choropleth\n",
    "crime_map=add_choropleth(crime_map, tracts, 'TRACTCE','DeputyInvolvedAnimalShootingsPSqMi')"
   ]
  },
  {
   "cell_type": "markdown",
   "metadata": {},
   "source": [
    "### Create Crime Point Cluster Layer\n",
    "Before displaying my map, I will also add the layer of crime point locations. Rather than display each individual point, I use Leaflet's marker clustering feature, which makes it easier to visualize large numbers of points by grouping together those that are close to each other. Additionally, I use popups to display information about a particular crime when the user clicks on a point. Folium lets you create HTML-rich popups called IFrames. I use this feature only in the most basic form, just to display a few lines of information: crime description, date, time, and address. There are obviously much more creative things that can be done with an IFrame popup (tables, graphs, sub-maps, etc.) but for my purposes this is all I need. \n",
    "\n",
    "My function takes as its inputs a Folium map object, a GeoDataFrame, and a list of fields to include in the popup. I run this function on my previously created map object (already updated with a choropleth layer), specifying 4 fields of interest that I want to display. \n"
   ]
  },
  {
   "cell_type": "code",
   "execution_count": null,
   "metadata": {
    "collapsed": true
   },
   "outputs": [],
   "source": [
    "def add_point_clusters(mapobj, gdf, popup_field_list):\n",
    "    #Create empty lists to contain the point coordinates and the point pop-up information\n",
    "    coords, popups = [], [] \n",
    "    #Loop through each record in the GeoDataFrame\n",
    "    for i, row in gdf.iterrows():\n",
    "        #Append lat and long coordinates to \"coords\" list\n",
    "        coords.append([row.geometry.y, row.geometry.x])\n",
    "        #Create a string of HTML code used in the IFrame popup\n",
    "        #Join together the fields in \"popup_field_list\" with a linebreak between them\n",
    "        label = '<br>'.join([row[field] for field in popup_field_list])\n",
    "        #Append an IFrame that uses the HTML string to the \"popups\" list \n",
    "        popups.append(IFrame(label, width = 300, height = 100))\n",
    "        \n",
    "    #Create a Folium feature group for this layer, since we will be displaying multiple layers\n",
    "    pt_lyr = folium.FeatureGroup(name = 'pt_lyr')\n",
    "    \n",
    "    #Add the clustered points of crime locations and popups to this layer\n",
    "    pt_lyr.add_child(MarkerCluster(locations = coords, popups = popups))\n",
    "    \n",
    "    #Add this point layer to the map object\n",
    "    mapobj.add_child(pt_lyr)\n",
    "    return mapobj\n",
    "\n",
    "#Update choropleth with point clusters\n",
    "crime_map = add_point_clusters(crime_map, assaults, ['Descript','Address','DateStr','Time'])"
   ]
  },
  {
   "cell_type": "markdown",
   "metadata": {},
   "source": [
    "### Add Layer Control, Display and Save Map\n",
    "As a finishing touch, I add Layer Control to the map, which allows me to toggle on/off either of my two layers (see widget on the top right). Then I save my finished map as an HTML and display it! \n",
    "\n",
    "I hope this was helpful in demonstrating some of the mapping capabilities of Leaflet accessed through the package Folium.  The functions I wrote provide a nice way of displaying two very common types of spatial data on a basemap and can obviously be tweaked to add more custom functionality."
   ]
  },
  {
   "cell_type": "code",
   "execution_count": null,
   "metadata": {},
   "outputs": [],
   "source": [
    "folium.LayerControl().add_to(crime_map) #Add layer control to toggle on/off\n",
    "crime_map.save('sf_assaults.html') #save HTML\n",
    "crime_map #display map"
   ]
  },
  {
   "cell_type": "code",
   "execution_count": null,
   "metadata": {
    "collapsed": true
   },
   "outputs": [],
   "source": []
  }
 ],
 "metadata": {
  "kernelspec": {
   "display_name": "Python [conda env:PythonData]",
   "language": "python",
   "name": "conda-env-PythonData-py"
  }
 },
 "nbformat": 4,
 "nbformat_minor": 1
}
